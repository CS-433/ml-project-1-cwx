{
 "cells": [
  {
   "cell_type": "code",
   "execution_count": 1,
   "metadata": {},
   "outputs": [],
   "source": [
    "import numpy as np\n",
    "from proj1_helpers import *"
   ]
  },
  {
   "cell_type": "code",
   "execution_count": 2,
   "metadata": {},
   "outputs": [],
   "source": [
    "train_path = \"data/train.csv/train.csv\"\n",
    "test_path = \"data/test.csv/test.csv\"\n",
    "train_target, train_data, _ = load_csv_data(train_path)\n",
    "train_target = train_target.reshape((len(train_target), 1))"
   ]
  },
  {
   "cell_type": "code",
   "execution_count": 3,
   "metadata": {},
   "outputs": [],
   "source": [
    "# Gradient_descent "
   ]
  },
  {
   "cell_type": "code",
   "execution_count": 7,
   "metadata": {},
   "outputs": [
    {
     "name": "stdout",
     "output_type": "stream",
     "text": [
      "gradient_descent accuracy: 0.77864\n",
      "gradient_descent accuracy: 0.78118\n",
      "gradient_descent accuracy: 0.7834\n",
      "gradient_descent accuracy: 0.77582\n",
      "gradient_descent accuracy: 0.78052\n"
     ]
    },
    {
     "data": {
      "text/plain": [
       "0.779912"
      ]
     },
     "execution_count": 7,
     "metadata": {},
     "output_type": "execute_result"
    }
   ],
   "source": [
    "cross_validation(train_data, train_target, n_fold=5, f='gradient_descent', lambda_=0.0, epochs=500, gamma=5e-2,\n",
    "                 print_res=False, delete_out=False, level=3, fix_emp=True, t=0.9, normalize=True, norm_type='log-norm',\n",
    "                 poly=True, cross_term=False, degree=4, embedding=False, embedding_level=0.99)"
   ]
  },
  {
   "cell_type": "code",
   "execution_count": 10,
   "metadata": {},
   "outputs": [],
   "source": [
    "# Stochastic_gradient_descent "
   ]
  },
  {
   "cell_type": "code",
   "execution_count": 9,
   "metadata": {},
   "outputs": [
    {
     "name": "stdout",
     "output_type": "stream",
     "text": [
      "stochastic_gradient_descent accuracy: 0.72256\n",
      "stochastic_gradient_descent accuracy: 0.7498\n",
      "stochastic_gradient_descent accuracy: 0.7486\n",
      "stochastic_gradient_descent accuracy: 0.7112\n",
      "stochastic_gradient_descent accuracy: 0.73326\n"
     ]
    },
    {
     "data": {
      "text/plain": [
       "0.7330840000000001"
      ]
     },
     "execution_count": 9,
     "metadata": {},
     "output_type": "execute_result"
    }
   ],
   "source": [
    "cross_validation(train_data, train_target, n_fold=5, f='stochastic_gradient_descent', gamma=5e-4, epochs=3000,\n",
    "                       batch_size=1, lambda_=0.0,\n",
    "                       print_res=False, delete_out=False, level=3, fix_emp=True, t=0.9, normalize=True,\n",
    "                       norm_type='log-norm',\n",
    "                       poly=True, cross_term=False, degree=4, embedding=False, embedding_level=0.99)"
   ]
  },
  {
   "cell_type": "code",
   "execution_count": 88,
   "metadata": {},
   "outputs": [],
   "source": [
    "# Least_squares "
   ]
  },
  {
   "cell_type": "code",
   "execution_count": 18,
   "metadata": {},
   "outputs": [
    {
     "name": "stdout",
     "output_type": "stream",
     "text": [
      "least_squares accuracy: 0.73634\n",
      "least_squares accuracy: 0.79972\n",
      "least_squares accuracy: 0.80206\n",
      "least_squares accuracy: 0.79736\n",
      "least_squares accuracy: 0.801\n",
      "0.787296\n"
     ]
    }
   ],
   "source": [
    "print(cross_validation(train_data, train_target, n_fold=5, f='least_squares',\n",
    "                       print_res=False, delete_out=False, level=3, fix_emp=True, t=0.9, normalize=True,\n",
    "                       norm_type='log-norm',\n",
    "                       poly=True, cross_term=True, degree=2, embedding=False, embedding_level=0.99))"
   ]
  },
  {
   "cell_type": "code",
   "execution_count": null,
   "metadata": {},
   "outputs": [],
   "source": [
    "# Ridge_regression "
   ]
  },
  {
   "cell_type": "code",
   "execution_count": 17,
   "metadata": {},
   "outputs": [
    {
     "name": "stdout",
     "output_type": "stream",
     "text": [
      "ridge_regression accuracy: 0.7365\n",
      "ridge_regression accuracy: 0.79958\n",
      "ridge_regression accuracy: 0.80284\n",
      "ridge_regression accuracy: 0.79698\n",
      "ridge_regression accuracy: 0.80054\n",
      "0.787288\n"
     ]
    }
   ],
   "source": [
    "print(cross_validation(train_data, train_target, n_fold=5, f='ridge_regression',lambda_=1e-6,\n",
    "                       print_res=False, delete_out=False, level=3, fix_emp=True, t=0.9, normalize=True,\n",
    "                       norm_type='log-norm',\n",
    "                       poly=True, cross_term=True, degree=2, embedding=False, embedding_level=0.99))"
   ]
  },
  {
   "cell_type": "code",
   "execution_count": null,
   "metadata": {},
   "outputs": [],
   "source": [
    "# Logistic_regression"
   ]
  },
  {
   "cell_type": "code",
   "execution_count": 14,
   "metadata": {},
   "outputs": [
    {
     "name": "stdout",
     "output_type": "stream",
     "text": [
      "logistic_regression accuracy: 0.70252\n",
      "logistic_regression accuracy: 0.7421\n",
      "logistic_regression accuracy: 0.74322\n",
      "logistic_regression accuracy: 0.73772\n",
      "logistic_regression accuracy: 0.7414\n"
     ]
    },
    {
     "data": {
      "text/plain": [
       "0.733392"
      ]
     },
     "execution_count": 14,
     "metadata": {},
     "output_type": "execute_result"
    }
   ],
   "source": [
    "cross_validation(train_data, train_target, n_fold=5, f='logistic_regression', lambda_=0.0, epochs=10, gamma=1e-5,\n",
    "                 print_res=False, delete_out=False, level=3, fix_emp=True, t=0.9, normalize=True, norm_type='log-norm',\n",
    "                 poly=True, cross_term=False, degree=4, embedding=False, embedding_level=0.99)"
   ]
  },
  {
   "cell_type": "code",
   "execution_count": 56,
   "metadata": {},
   "outputs": [],
   "source": [
    "# Reg_logistic_regression"
   ]
  },
  {
   "cell_type": "code",
   "execution_count": 20,
   "metadata": {},
   "outputs": [
    {
     "name": "stdout",
     "output_type": "stream",
     "text": [
      "reg_logistic_regression accuracy: 0.70252\n",
      "reg_logistic_regression accuracy: 0.7421\n",
      "reg_logistic_regression accuracy: 0.74322\n",
      "reg_logistic_regression accuracy: 0.73772\n",
      "reg_logistic_regression accuracy: 0.7414\n"
     ]
    },
    {
     "data": {
      "text/plain": [
       "0.733392"
      ]
     },
     "execution_count": 20,
     "metadata": {},
     "output_type": "execute_result"
    }
   ],
   "source": [
    "cross_validation(train_data, train_target, n_fold=5, f='reg_logistic_regression', epochs=10,lambda_=1e-1,gamma=1e-5,\n",
    "                 print_res=False, delete_out=False, level=3, fix_emp=True, t=0.9, normalize=True, norm_type='log-norm',\n",
    "                 poly=True, cross_term=False, degree=4, embedding=False, embedding_level=0.99)"
   ]
  },
  {
   "cell_type": "code",
   "execution_count": 27,
   "metadata": {},
   "outputs": [],
   "source": [
    "# With split data"
   ]
  },
  {
   "cell_type": "code",
   "execution_count": 19,
   "metadata": {},
   "outputs": [],
   "source": [
    "train_path = \"data/train.csv/train.csv\"\n",
    "test_path = \"data/test.csv/test.csv\"\n",
    "train_target, train_data, _ = load_csv_data(train_path)\n",
    "train_target = train_target.reshape((len(train_target), 1))\n",
    "_, test_data, ids = load_csv_data(test_path)"
   ]
  },
  {
   "cell_type": "code",
   "execution_count": 20,
   "metadata": {},
   "outputs": [],
   "source": [
    "xs, ys, ts, ids=preprocess(train_data, train_target, test_data, ids)"
   ]
  },
  {
   "cell_type": "code",
   "execution_count": 43,
   "metadata": {},
   "outputs": [
    {
     "name": "stdout",
     "output_type": "stream",
     "text": [
      "0 (99913, 29)\n",
      "ridge_regression accuracy: 0.8222989541109943\n",
      "ridge_regression accuracy: 0.8244007406295351\n",
      "ridge_regression accuracy: 0.8378621828554271\n",
      "ridge_regression accuracy: 0.8403643096632137\n",
      "ridge_regression accuracy: 0.8403983784595366\n",
      "0.8330649131437415\n",
      "1 (77544, 29)\n",
      "ridge_regression accuracy: 0.7867044941646786\n",
      "ridge_regression accuracy: 0.7956025533561158\n",
      "ridge_regression accuracy: 0.7857373138177832\n",
      "ridge_regression accuracy: 0.7606551034882971\n",
      "ridge_regression accuracy: 0.7326541140056745\n",
      "0.7722707157665099\n",
      "2 (50379, 29)\n",
      "ridge_regression accuracy: 0.8185788011115522\n",
      "ridge_regression accuracy: 0.823441842000794\n",
      "ridge_regression accuracy: 0.8358475585549822\n",
      "ridge_regression accuracy: 0.8265184597062326\n",
      "ridge_regression accuracy: 0.8237220843672457\n",
      "0.8256217491481614\n",
      "3 (22164, 29)\n",
      "ridge_regression accuracy: 0.7994586059102188\n",
      "ridge_regression accuracy: 0.7933679224001805\n",
      "ridge_regression accuracy: 0.809609745093616\n",
      "ridge_regression accuracy: 0.8032934807128356\n",
      "ridge_regression accuracy: 0.8088898916967509\n",
      "0.8029239291627203\n"
     ]
    }
   ],
   "source": [
    "index=0\n",
    "for x,y,t,id in zip(xs,ys,ts,ids):\n",
    "    print(index,x.shape)\n",
    "    index+=1\n",
    "    print(cross_validation(x, y, n_fold=5, f='ridge_regression',lambda_=5e-3,\n",
    "                       print_res=False, delete_out=True, level=3.5, fix_emp=True, t=0.9, normalize=True,\n",
    "                       norm_type='log-norm',\n",
    "                       poly=True, cross_term=True, degree=2, embedding=False, embedding_level=0.99))"
   ]
  },
  {
   "cell_type": "code",
   "execution_count": 54,
   "metadata": {},
   "outputs": [],
   "source": [
    "# DNN"
   ]
  },
  {
   "cell_type": "code",
   "execution_count": 84,
   "metadata": {},
   "outputs": [],
   "source": [
    "train_path = \"data/train.csv/train.csv\"\n",
    "test_path = \"data/test.csv/test.csv\"\n",
    "train_target, train_data, _ = load_csv_data(train_path)\n",
    "train_target = train_target.reshape((len(train_target), 1))\n",
    "_, test_data, ids = load_csv_data(test_path)\n",
    "train_target=convert_to_one_hot(train_target)"
   ]
  },
  {
   "cell_type": "code",
   "execution_count": 87,
   "metadata": {
    "scrolled": true
   },
   "outputs": [
    {
     "name": "stdout",
     "output_type": "stream",
     "text": [
      "dnn accuracy: 0.8395\n",
      "dnn accuracy: 0.83986\n",
      "dnn accuracy: 0.8418\n",
      "dnn accuracy: 0.84104\n",
      "dnn accuracy: 0.84074\n",
      "0.840588\n"
     ]
    }
   ],
   "source": [
    "print(cross_validation(train_data, train_target, n_fold=5, f='dnn',lambda_=1e-6,epochs=100,\n",
    "                       print_res=False, delete_out=False, level=3, fix_emp=True, t=0.9, normalize=True,\n",
    "                       norm_type='log-norm',\n",
    "                       poly=False, cross_term=True, degree=2, embedding=False, embedding_level=0.99))"
   ]
  },
  {
   "cell_type": "code",
   "execution_count": null,
   "metadata": {},
   "outputs": [],
   "source": []
  }
 ],
 "metadata": {
  "kernelspec": {
   "display_name": "Python 3",
   "language": "python",
   "name": "python3"
  },
  "language_info": {
   "codemirror_mode": {
    "name": "ipython",
    "version": 3
   },
   "file_extension": ".py",
   "mimetype": "text/x-python",
   "name": "python",
   "nbconvert_exporter": "python",
   "pygments_lexer": "ipython3",
   "version": "3.8.5"
  }
 },
 "nbformat": 4,
 "nbformat_minor": 4
}
