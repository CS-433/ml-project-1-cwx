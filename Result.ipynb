{
 "cells": [
  {
   "cell_type": "code",
   "execution_count": 81,
   "metadata": {},
   "outputs": [],
   "source": [
    "import numpy as np\n",
    "from proj1_helpers import *"
   ]
  },
  {
   "cell_type": "code",
   "execution_count": 82,
   "metadata": {},
   "outputs": [],
   "source": [
    "train_path = \"data/train.csv/train.csv\"\n",
    "test_path = \"data/test.csv/test.csv\"\n",
    "train_target, train_data, _ = load_csv_data(train_path)\n",
    "train_target = train_target.reshape((len(train_target), 1))\n",
    "_, test_data, ids = load_csv_data(test_path)\n",
    "train_data,test_data=fix_empty(train_data,test_data)\n",
    "train_data,test_data=standardize(train_data,test_data)"
   ]
  },
  {
   "cell_type": "code",
   "execution_count": 83,
   "metadata": {},
   "outputs": [],
   "source": [
    "train_data,train_target=delete_outlier(train_data,train_target, t=3)"
   ]
  },
  {
   "cell_type": "code",
   "execution_count": 7,
   "metadata": {},
   "outputs": [],
   "source": [
    "# Gradient_descent "
   ]
  },
  {
   "cell_type": "code",
   "execution_count": 101,
   "metadata": {},
   "outputs": [],
   "source": [
    "x=build_poly(train_data,4)"
   ]
  },
  {
   "cell_type": "code",
   "execution_count": 102,
   "metadata": {},
   "outputs": [
    {
     "name": "stdout",
     "output_type": "stream",
     "text": [
      "42089\n",
      "gradient_descent accuracy: 0.8092375680106441\n",
      "gradient_descent accuracy: 0.8081921642234313\n",
      "gradient_descent accuracy: 0.8104255268597496\n",
      "gradient_descent accuracy: 0.8080020908075745\n",
      "gradient_descent accuracy: 0.8088200351660885\n"
     ]
    },
    {
     "data": {
      "text/plain": [
       "0.8089354770134974"
      ]
     },
     "execution_count": 102,
     "metadata": {},
     "output_type": "execute_result"
    }
   ],
   "source": [
    "cross_validation(x,train_target,f='gradient_descent',gamma=1e-1,epochs=500)"
   ]
  },
  {
   "cell_type": "code",
   "execution_count": 10,
   "metadata": {},
   "outputs": [],
   "source": [
    "# Stochastic_gradient_descent "
   ]
  },
  {
   "cell_type": "code",
   "execution_count": 105,
   "metadata": {},
   "outputs": [],
   "source": [
    "x=build_poly(train_data, 2)"
   ]
  },
  {
   "cell_type": "code",
   "execution_count": 106,
   "metadata": {},
   "outputs": [
    {
     "name": "stdout",
     "output_type": "stream",
     "text": [
      "42089\n",
      "stochastic_gradient_descent accuracy: 0.7730285822899094\n",
      "stochastic_gradient_descent accuracy: 0.7802751312694528\n",
      "stochastic_gradient_descent accuracy: 0.7855021502055168\n",
      "stochastic_gradient_descent accuracy: 0.7841003587635724\n",
      "stochastic_gradient_descent accuracy: 0.7712065770089817\n"
     ]
    },
    {
     "data": {
      "text/plain": [
       "0.7788225599074866"
      ]
     },
     "execution_count": 106,
     "metadata": {},
     "output_type": "execute_result"
    }
   ],
   "source": [
    "cross_validation(x,train_target,f='stochastic_gradient_descent',gamma=1e-3,epochs=3000,batch_size=1)"
   ]
  },
  {
   "cell_type": "code",
   "execution_count": 88,
   "metadata": {},
   "outputs": [],
   "source": [
    "# Least_squares "
   ]
  },
  {
   "cell_type": "code",
   "execution_count": 92,
   "metadata": {},
   "outputs": [
    {
     "name": "stdout",
     "output_type": "stream",
     "text": [
      "42089\n",
      "least_squares accuracy: 0.8138468483451733\n",
      "least_squares accuracy: 0.8150348071942788\n",
      "least_squares accuracy: 0.7791346907743115\n",
      "least_squares accuracy: 0.8159138967426168\n",
      "least_squares accuracy: 0.8143087962742955\n"
     ]
    },
    {
     "data": {
      "text/plain": [
       "0.8076478078661351"
      ]
     },
     "execution_count": 92,
     "metadata": {},
     "output_type": "execute_result"
    }
   ],
   "source": [
    "x=build_poly(train_data,7)\n",
    "cross_validation(x,train_target,f='least_squares')"
   ]
  },
  {
   "cell_type": "code",
   "execution_count": null,
   "metadata": {},
   "outputs": [],
   "source": [
    "# Ridge_regression "
   ]
  },
  {
   "cell_type": "code",
   "execution_count": 113,
   "metadata": {},
   "outputs": [
    {
     "name": "stdout",
     "output_type": "stream",
     "text": [
      "42089\n",
      "ridge_regression accuracy: 0.8157000641497778\n",
      "ridge_regression accuracy: 0.8159138967426168\n",
      "ridge_regression accuracy: 0.8164841169901874\n",
      "ridge_regression accuracy: 0.8169830597068117\n",
      "ridge_regression accuracy: 0.816257187663356\n"
     ]
    },
    {
     "data": {
      "text/plain": [
       "0.8162676650505499"
      ]
     },
     "execution_count": 113,
     "metadata": {},
     "output_type": "execute_result"
    }
   ],
   "source": [
    "x=build_poly(train_data,12)\n",
    "cross_validation(x,train_target,f='ridge_regression',lambda_=1e-4)"
   ]
  },
  {
   "cell_type": "code",
   "execution_count": null,
   "metadata": {},
   "outputs": [],
   "source": [
    "# Logistic_regression"
   ]
  },
  {
   "cell_type": "code",
   "execution_count": 116,
   "metadata": {},
   "outputs": [
    {
     "name": "stdout",
     "output_type": "stream",
     "text": [
      "42089\n",
      "logistic_regression accuracy: 0.7739076718382475\n",
      "logistic_regression accuracy: 0.7737413575993728\n",
      "logistic_regression accuracy: 0.7784694338188125\n",
      "logistic_regression accuracy: 0.7753807408111383\n",
      "logistic_regression accuracy: 0.7734876205864183\n"
     ]
    },
    {
     "data": {
      "text/plain": [
       "0.7749973649307978"
      ]
     },
     "execution_count": 116,
     "metadata": {},
     "output_type": "execute_result"
    }
   ],
   "source": [
    "x=build_poly(train_data,3)\n",
    "cross_validation(x,train_target,f='logistic_regression',gamma=1e-5,epochs=30)"
   ]
  },
  {
   "cell_type": "code",
   "execution_count": 56,
   "metadata": {},
   "outputs": [],
   "source": [
    "# Reg_logistic_regression"
   ]
  },
  {
   "cell_type": "code",
   "execution_count": 118,
   "metadata": {},
   "outputs": [
    {
     "name": "stdout",
     "output_type": "stream",
     "text": [
      "42089\n",
      "reg_logistic_regression accuracy: 0.777495307562546\n",
      "reg_logistic_regression accuracy: 0.7778516952172777\n",
      "reg_logistic_regression accuracy: 0.7825084939057712\n",
      "reg_logistic_regression accuracy: 0.7797999477298106\n",
      "reg_logistic_regression accuracy: 0.7765765337641971\n"
     ]
    },
    {
     "data": {
      "text/plain": [
       "0.7788463956359206"
      ]
     },
     "execution_count": 118,
     "metadata": {},
     "output_type": "execute_result"
    }
   ],
   "source": [
    "x=build_poly(train_data,5)\n",
    "cross_validation(x,train_target,f='reg_logistic_regression',gamma=1e-5,epochs=30, lambda_=1e-1)"
   ]
  },
  {
   "cell_type": "code",
   "execution_count": 27,
   "metadata": {},
   "outputs": [],
   "source": [
    "# With split data"
   ]
  },
  {
   "cell_type": "code",
   "execution_count": 11,
   "metadata": {},
   "outputs": [],
   "source": [
    "train_path = \"data/train.csv/train.csv\"\n",
    "test_path = \"data/test.csv/test.csv\"\n",
    "train_target, train_data, _ = load_csv_data(train_path)\n",
    "train_target = train_target.reshape((len(train_target), 1))\n",
    "_, test_data, ids = load_csv_data(test_path)"
   ]
  },
  {
   "cell_type": "code",
   "execution_count": 12,
   "metadata": {},
   "outputs": [],
   "source": [
    "xs, ys, ts, ids=preprocess(train_data, train_target, test_data, ids, poly=False, embedding=False)"
   ]
  },
  {
   "cell_type": "code",
   "execution_count": 80,
   "metadata": {},
   "outputs": [
    {
     "name": "stdout",
     "output_type": "stream",
     "text": [
      "0\n",
      "14856\n",
      "ridge_regression accuracy: 0.8542676359719978\n",
      "ridge_regression accuracy: 0.850767366720517\n",
      "ridge_regression accuracy: 0.8510366182014001\n",
      "ridge_regression accuracy: 0.8547388260635433\n",
      "ridge_regression accuracy: 0.8533728288676451\n",
      "0.8528366551650206\n",
      "1\n",
      "14707\n",
      "ridge_regression accuracy: 0.8013190997484191\n",
      "ridge_regression accuracy: 0.810974365948188\n",
      "ridge_regression accuracy: 0.8046508465356633\n",
      "ridge_regression accuracy: 0.8032229550554157\n",
      "ridge_regression accuracy: 0.8038349085469504\n",
      "0.8048004351669273\n",
      "2\n",
      "9725\n",
      "ridge_regression accuracy: 0.8277634961439588\n",
      "ridge_regression accuracy: 0.8303341902313625\n",
      "ridge_regression accuracy: 0.8376349614395887\n",
      "ridge_regression accuracy: 0.8316709511568123\n",
      "ridge_regression accuracy: 0.8316016870692315\n",
      "0.8318010572081909\n",
      "3\n",
      "4216\n",
      "ridge_regression accuracy: 0.8420303605313093\n",
      "ridge_regression accuracy: 0.8175996204933587\n",
      "ridge_regression accuracy: 0.8351518026565465\n",
      "ridge_regression accuracy: 0.8325426944971537\n",
      "ridge_regression accuracy: 0.8461903631616425\n",
      "0.8347029682680022\n"
     ]
    }
   ],
   "source": [
    "index=0\n",
    "level=[2.25,3.75,5,4.5]\n",
    "degree=[8,8,9,9]\n",
    "for x,y,t,id,l,d in zip(xs,ys,ts,ids,level,degree):\n",
    "    print(index)\n",
    "    index+=1\n",
    "    x,y=delete_outlier(x,y, t=l)\n",
    "    x=build_poly(x,d)\n",
    "    print(cross_validation(x,y,f='ridge_regression',lambda_=0.01))"
   ]
  },
  {
   "cell_type": "code",
   "execution_count": null,
   "metadata": {},
   "outputs": [],
   "source": [
    "# DNN"
   ]
  },
  {
   "cell_type": "code",
   "execution_count": 120,
   "metadata": {},
   "outputs": [
    {
     "name": "stdout",
     "output_type": "stream",
     "text": [
      "50000\n",
      "dnn accuracy: 0.8412999999999999\n",
      "dnn accuracy: 0.84082\n",
      "dnn accuracy: 0.8414200000000001\n",
      "dnn accuracy: 0.8400799999999999\n",
      "dnn accuracy: 0.83986\n"
     ]
    },
    {
     "data": {
      "text/plain": [
       "0.840696"
      ]
     },
     "execution_count": 120,
     "metadata": {},
     "output_type": "execute_result"
    }
   ],
   "source": [
    "train_path = \"data/train.csv/train.csv\"\n",
    "test_path = \"data/test.csv/test.csv\"\n",
    "train_target, train_data, _ = load_csv_data(train_path)\n",
    "train_target = train_target.reshape((len(train_target), 1))\n",
    "_, test_data, ids = load_csv_data(test_path)\n",
    "train_data,test_data=fix_empty(train_data,test_data)\n",
    "train_data,test_data=standardize(train_data,test_data)\n",
    "y=convert_to_one_hot(train_target)\n",
    "cross_validation(train_data,y, f='dnn',gamma=1e-1,epochs=100)"
   ]
  },
  {
   "cell_type": "code",
   "execution_count": null,
   "metadata": {},
   "outputs": [],
   "source": []
  }
 ],
 "metadata": {
  "kernelspec": {
   "display_name": "Python 3",
   "language": "python",
   "name": "python3"
  },
  "language_info": {
   "codemirror_mode": {
    "name": "ipython",
    "version": 3
   },
   "file_extension": ".py",
   "mimetype": "text/x-python",
   "name": "python",
   "nbconvert_exporter": "python",
   "pygments_lexer": "ipython3",
   "version": "3.8.5"
  }
 },
 "nbformat": 4,
 "nbformat_minor": 4
}
