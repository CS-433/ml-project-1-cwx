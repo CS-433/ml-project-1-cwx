{
 "cells": [
  {
   "cell_type": "code",
   "execution_count": 1,
   "metadata": {},
   "outputs": [],
   "source": [
    "import numpy as np\n",
    "from proj1_helpers import *"
   ]
  },
  {
   "cell_type": "code",
   "execution_count": 2,
   "metadata": {},
   "outputs": [],
   "source": [
    "train_path = \"data/train.csv/train.csv\"\n",
    "train_target, train_data, _ = load_csv_data(train_path)\n",
    "train_target = train_target.reshape((len(train_target), 1))"
   ]
  },
  {
   "cell_type": "code",
   "execution_count": 3,
   "metadata": {},
   "outputs": [],
   "source": [
    "# Gradient_descent "
   ]
  },
  {
   "cell_type": "code",
   "execution_count": 3,
   "metadata": {},
   "outputs": [
    {
     "name": "stdout",
     "output_type": "stream",
     "text": [
      "gradient_descent accuracy: 0.78168\n",
      "gradient_descent accuracy: 0.78118\n",
      "gradient_descent accuracy: 0.7834\n",
      "gradient_descent accuracy: 0.77582\n",
      "gradient_descent accuracy: 0.78052\n"
     ]
    },
    {
     "data": {
      "text/plain": [
       "0.78052"
      ]
     },
     "execution_count": 3,
     "metadata": {},
     "output_type": "execute_result"
    }
   ],
   "source": [
    "cross_validation(train_data, train_target, n_fold=5, f='gradient_descent', lambda_=0.0, epochs=500, gamma=5e-2,\n",
    "                 print_res=False, delete_out=False, level=3, fix_emp=True, t=0.9, normalize=True, norm_type='log-norm',\n",
    "                 poly=True, cross_term=False, degree=4, embedding=False, embedding_level=0.99)"
   ]
  },
  {
   "cell_type": "code",
   "execution_count": 10,
   "metadata": {},
   "outputs": [],
   "source": [
    "# Stochastic_gradient_descent "
   ]
  },
  {
   "cell_type": "code",
   "execution_count": 9,
   "metadata": {},
   "outputs": [
    {
     "name": "stdout",
     "output_type": "stream",
     "text": [
      "stochastic_gradient_descent accuracy: 0.72256\n",
      "stochastic_gradient_descent accuracy: 0.7498\n",
      "stochastic_gradient_descent accuracy: 0.7486\n",
      "stochastic_gradient_descent accuracy: 0.7112\n",
      "stochastic_gradient_descent accuracy: 0.73326\n"
     ]
    },
    {
     "data": {
      "text/plain": [
       "0.7330840000000001"
      ]
     },
     "execution_count": 9,
     "metadata": {},
     "output_type": "execute_result"
    }
   ],
   "source": [
    "cross_validation(train_data, train_target, n_fold=5, f='stochastic_gradient_descent', gamma=5e-4, epochs=3000,\n",
    "                       batch_size=1, lambda_=0.0,\n",
    "                       print_res=False, delete_out=False, level=3, fix_emp=True, t=0.9, normalize=True,\n",
    "                       norm_type='log-norm',\n",
    "                       poly=True, cross_term=False, degree=4, embedding=False, embedding_level=0.99)"
   ]
  },
  {
   "cell_type": "code",
   "execution_count": 88,
   "metadata": {},
   "outputs": [],
   "source": [
    "# Least_squares "
   ]
  },
  {
   "cell_type": "code",
   "execution_count": 3,
   "metadata": {},
   "outputs": [
    {
     "name": "stdout",
     "output_type": "stream",
     "text": [
      "least_squares accuracy: 0.79262\n",
      "least_squares accuracy: 0.7952\n",
      "least_squares accuracy: 0.79678\n",
      "least_squares accuracy: 0.79202\n",
      "least_squares accuracy: 0.79564\n",
      "0.7944519999999999\n"
     ]
    }
   ],
   "source": [
    "print(cross_validation(train_data, train_target, n_fold=5, f='least_squares',\n",
    "                       print_res=False, delete_out=False, level=3, fix_emp=True, t=0.5, normalize=True,\n",
    "                       norm_type='log-norm',\n",
    "                       poly=True, cross_term=True, degree=2, embedding=False, embedding_level=0.99))"
   ]
  },
  {
   "cell_type": "code",
   "execution_count": null,
   "metadata": {},
   "outputs": [],
   "source": [
    "# Ridge_regression "
   ]
  },
  {
   "cell_type": "code",
   "execution_count": 4,
   "metadata": {},
   "outputs": [
    {
     "name": "stdout",
     "output_type": "stream",
     "text": [
      "ridge_regression accuracy: 0.792\n",
      "ridge_regression accuracy: 0.79516\n",
      "ridge_regression accuracy: 0.79636\n",
      "ridge_regression accuracy: 0.79214\n",
      "ridge_regression accuracy: 0.79562\n",
      "0.794256\n"
     ]
    }
   ],
   "source": [
    "print(cross_validation(train_data, train_target, n_fold=5, f='ridge_regression',lambda_=1e-6,\n",
    "                       print_res=False, delete_out=False, level=3, fix_emp=True, t=0.5, normalize=True,\n",
    "                       norm_type='log-norm',\n",
    "                       poly=True, cross_term=True, degree=2, embedding=False, embedding_level=0.99))"
   ]
  },
  {
   "cell_type": "code",
   "execution_count": null,
   "metadata": {},
   "outputs": [],
   "source": [
    "# Logistic_regression"
   ]
  },
  {
   "cell_type": "code",
   "execution_count": 50,
   "metadata": {},
   "outputs": [
    {
     "name": "stdout",
     "output_type": "stream",
     "text": [
      "logistic_regression accuracy: 0.80002\n",
      "logistic_regression accuracy: 0.8009\n",
      "logistic_regression accuracy: 0.80444\n",
      "logistic_regression accuracy: 0.8002\n",
      "logistic_regression accuracy: 0.80272\n",
      "0.801656\n"
     ]
    }
   ],
   "source": [
    "cross_validation(train_data, train_target, n_fold=5, f='logistic_regression', lambda_=0.0, epochs=500, gamma=2e-7,\n",
    "                 print_res=True, delete_out=False, level=3, fix_emp=True, t=0.9, normalize=True, norm_type='log-norm',\n",
    "                 poly=True, cross_term=True, degree=2, embedding=False, embedding_level=0.99)"
   ]
  },
  {
   "cell_type": "code",
   "execution_count": null,
   "metadata": {},
   "outputs": [],
   "source": [
    "# Reg_logistic_regression"
   ]
  },
  {
   "cell_type": "code",
   "execution_count": 58,
   "metadata": {},
   "outputs": [
    {
     "name": "stdout",
     "output_type": "stream",
     "text": [
      "reg_logistic_regression accuracy: 0.80002\n",
      "reg_logistic_regression accuracy: 0.8009\n",
      "reg_logistic_regression accuracy: 0.80444\n",
      "reg_logistic_regression accuracy: 0.8002\n",
      "reg_logistic_regression accuracy: 0.80272\n",
      "0.801656\n"
     ]
    }
   ],
   "source": [
    "cross_validation(train_data, train_target, n_fold=5, f='reg_logistic_regression', epochs=500,lambda_=1e-4,gamma=2e-7,\n",
    "                 print_res=False, delete_out=False, level=3, fix_emp=True, t=0.9, normalize=True, norm_type='log-norm',\n",
    "                 poly=True, cross_term=True, degree=2, embedding=False, embedding_level=0.99)"
   ]
  },
  {
   "cell_type": "code",
   "execution_count": 27,
   "metadata": {},
   "outputs": [],
   "source": [
    "# With split data"
   ]
  },
  {
   "cell_type": "code",
   "execution_count": 5,
   "metadata": {},
   "outputs": [],
   "source": [
    "train_path = \"data/train.csv/train.csv\"\n",
    "test_path = \"data/test.csv/test.csv\"\n",
    "train_target, train_data, _ = load_csv_data(train_path)\n",
    "train_target = train_target.reshape((len(train_target), 1))\n",
    "_,test_data,ids=load_csv_data(test_path)"
   ]
  },
  {
   "cell_type": "code",
   "execution_count": 6,
   "metadata": {},
   "outputs": [],
   "source": [
    "xs, ys, ts, ids=preprocess(train_data, train_target, test_data, ids)"
   ]
  },
  {
   "cell_type": "code",
   "execution_count": 21,
   "metadata": {},
   "outputs": [
    {
     "name": "stdout",
     "output_type": "stream",
     "text": [
      "0 (99913, 29)\n",
      "ridge_regression accuracy: 0.8408647350247711\n",
      "ridge_regression accuracy: 0.8184957213631587\n",
      "ridge_regression accuracy: 0.8309062703297803\n",
      "ridge_regression accuracy: 0.8349597157583947\n",
      "ridge_regression accuracy: 0.8205295030278765\n",
      "0.8291511891007962\n",
      "1 (77544, 29)\n",
      "ridge_regression accuracy: 0.7856728351279902\n",
      "ridge_regression accuracy: 0.7724547037204204\n",
      "ridge_regression accuracy: 0.7691662905409762\n",
      "ridge_regression accuracy: 0.7782577858017925\n",
      "ridge_regression accuracy: 0.7707634769151406\n",
      "0.775263018421264\n",
      "2 (50379, 29)\n",
      "ridge_regression accuracy: 0.8210599444223898\n",
      "ridge_regression accuracy: 0.8243350535926955\n",
      "ridge_regression accuracy: 0.8372369988090512\n",
      "ridge_regression accuracy: 0.8258237395791981\n",
      "ridge_regression accuracy: 0.8259057071960297\n",
      "0.826872288719873\n",
      "3 (22164, 29)\n",
      "ridge_regression accuracy: 0.7987818632979923\n",
      "ridge_regression accuracy: 0.7972027972027972\n",
      "ridge_regression accuracy: 0.8091585833521318\n",
      "ridge_regression accuracy: 0.8044213850665464\n",
      "ridge_regression accuracy: 0.8111462093862816\n",
      "0.8041421676611499\n"
     ]
    }
   ],
   "source": [
    "index=0\n",
    "for x,y,t,id in zip(xs,ys,ts,ids):\n",
    "    print(index,x.shape)\n",
    "    index+=1\n",
    "    print(cross_validation(x, y, n_fold=5, f='ridge_regression',lambda_=5e-3,\n",
    "                       print_res=False, delete_out=True, level=3.3, fix_emp=True, t=0.5, normalize=True,\n",
    "                       norm_type='log-norm',\n",
    "                       poly=True, cross_term=True, degree=2, embedding=False, embedding_level=0.99))"
   ]
  },
  {
   "cell_type": "code",
   "execution_count": null,
   "metadata": {},
   "outputs": [],
   "source": []
  },
  {
   "cell_type": "code",
   "execution_count": 54,
   "metadata": {},
   "outputs": [],
   "source": [
    "# DNN"
   ]
  },
  {
   "cell_type": "code",
   "execution_count": 2,
   "metadata": {},
   "outputs": [],
   "source": [
    "train_path = \"data/train.csv/train.csv\"\n",
    "train_target, train_data, _ = load_csv_data(train_path)\n",
    "train_target = train_target.reshape((len(train_target), 1))"
   ]
  },
  {
   "cell_type": "code",
   "execution_count": 3,
   "metadata": {
    "scrolled": true
   },
   "outputs": [
    {
     "name": "stdout",
     "output_type": "stream",
     "text": [
      "dnn accuracy: 0.8425400000000001\n",
      "dnn accuracy: 0.84238\n",
      "dnn accuracy: 0.84318\n",
      "dnn accuracy: 0.84128\n",
      "dnn accuracy: 0.8425400000000001\n",
      "0.8423840000000002\n"
     ]
    }
   ],
   "source": [
    "#MSE\n",
    "target=convert_to_one_hot(train_target)\n",
    "print(cross_validation(train_data, target, n_fold=5,crit='mse', f='dnn',lambda_=1e-5,epochs=80,gamma=1e-1,\n",
    "                       print_res=False, delete_out=False, level=3, fix_emp=True, t=0.9, normalize=True,\n",
    "                       norm_type='log-norm',cosine=True,batch_size=100,\n",
    "                       poly=False, cross_term=False, degree=2, embedding=False, embedding_level=0.99))"
   ]
  },
  {
   "cell_type": "code",
   "execution_count": 3,
   "metadata": {},
   "outputs": [
    {
     "name": "stdout",
     "output_type": "stream",
     "text": [
      "dnn accuracy: 0.84282\n",
      "dnn accuracy: 0.84188\n",
      "dnn accuracy: 0.843\n",
      "dnn accuracy: 0.84256\n",
      "dnn accuracy: 0.84284\n",
      "0.8426199999999999\n"
     ]
    }
   ],
   "source": [
    "#CrossEntropyLoss\n",
    "target=train_target\n",
    "target[target==-1]=0\n",
    "print(cross_validation(train_data, target, n_fold=5,crit='cel', f='dnn',lambda_=1e-5,epochs=80,gamma=1e-1,\n",
    "                       print_res=False, delete_out=False, level=3, fix_emp=True, t=0.9, normalize=True,\n",
    "                       norm_type='log-norm',cosine=True,batch_size=100,\n",
    "                       poly=False, cross_term=True, degree=2, embedding=False, embedding_level=0.99))"
   ]
  },
  {
   "cell_type": "code",
   "execution_count": null,
   "metadata": {},
   "outputs": [],
   "source": []
  }
 ],
 "metadata": {
  "kernelspec": {
   "display_name": "Python 3",
   "language": "python",
   "name": "python3"
  },
  "language_info": {
   "codemirror_mode": {
    "name": "ipython",
    "version": 3
   },
   "file_extension": ".py",
   "mimetype": "text/x-python",
   "name": "python",
   "nbconvert_exporter": "python",
   "pygments_lexer": "ipython3",
   "version": "3.8.5"
  }
 },
 "nbformat": 4,
 "nbformat_minor": 4
}
